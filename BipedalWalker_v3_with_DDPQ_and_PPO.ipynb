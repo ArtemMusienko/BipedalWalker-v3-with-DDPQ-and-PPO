{
  "nbformat": 4,
  "nbformat_minor": 0,
  "metadata": {
    "colab": {
      "provenance": [],
      "gpuType": "T4"
    },
    "kernelspec": {
      "name": "python3",
      "display_name": "Python 3"
    },
    "language_info": {
      "name": "python"
    },
    "accelerator": "GPU"
  },
  "cells": [
    {
      "cell_type": "markdown",
      "source": [
        "## Решение задачи:"
      ],
      "metadata": {
        "id": "LiPiPwt9IsF5"
      }
    },
    {
      "cell_type": "markdown",
      "source": [
        "Выполним установку необходимых библиотек:"
      ],
      "metadata": {
        "id": "sWaWetFIIvjC"
      }
    },
    {
      "cell_type": "code",
      "source": [
        "# Устанавливаем SWIG отдельно, чтобы убедиться, что он доступен\n",
        "!pip install swig\n",
        "\n",
        "# Устанавливаем gymnasium вместе с зависимостью box2d и matplotlib\n",
        "!pip install gymnasium[box2d] matplotlib"
      ],
      "metadata": {
        "colab": {
          "base_uri": "https://localhost:8080/"
        },
        "id": "-3Wh_QnJIvue",
        "outputId": "e33239d3-383b-4bf8-e97a-c80b42918cc6"
      },
      "execution_count": null,
      "outputs": [
        {
          "output_type": "stream",
          "name": "stdout",
          "text": [
            "Collecting swig\n",
            "  Downloading swig-4.3.1.post0-py3-none-manylinux_2_12_x86_64.manylinux2010_x86_64.whl.metadata (3.5 kB)\n",
            "Downloading swig-4.3.1.post0-py3-none-manylinux_2_12_x86_64.manylinux2010_x86_64.whl (1.9 MB)\n",
            "\u001b[?25l   \u001b[90m━━━━━━━━━━━━━━━━━━━━━━━━━━━━━━━━━━━━━━━━\u001b[0m \u001b[32m0.0/1.9 MB\u001b[0m \u001b[31m?\u001b[0m eta \u001b[36m-:--:--\u001b[0m\r\u001b[2K   \u001b[91m━━━━━━━━━━━━━━━━━━━━━━━━━━━━━━━━━━━━━━━\u001b[0m\u001b[91m╸\u001b[0m \u001b[32m1.9/1.9 MB\u001b[0m \u001b[31m59.2 MB/s\u001b[0m eta \u001b[36m0:00:01\u001b[0m\r\u001b[2K   \u001b[90m━━━━━━━━━━━━━━━━━━━━━━━━━━━━━━━━━━━━━━━━\u001b[0m \u001b[32m1.9/1.9 MB\u001b[0m \u001b[31m39.4 MB/s\u001b[0m eta \u001b[36m0:00:00\u001b[0m\n",
            "\u001b[?25hInstalling collected packages: swig\n",
            "Successfully installed swig-4.3.1.post0\n",
            "Requirement already satisfied: matplotlib in /usr/local/lib/python3.12/dist-packages (3.10.0)\n",
            "Requirement already satisfied: gymnasium[box2d] in /usr/local/lib/python3.12/dist-packages (1.2.1)\n",
            "Requirement already satisfied: numpy>=1.21.0 in /usr/local/lib/python3.12/dist-packages (from gymnasium[box2d]) (2.0.2)\n",
            "Requirement already satisfied: cloudpickle>=1.2.0 in /usr/local/lib/python3.12/dist-packages (from gymnasium[box2d]) (3.1.1)\n",
            "Requirement already satisfied: typing-extensions>=4.3.0 in /usr/local/lib/python3.12/dist-packages (from gymnasium[box2d]) (4.15.0)\n",
            "Requirement already satisfied: farama-notifications>=0.0.1 in /usr/local/lib/python3.12/dist-packages (from gymnasium[box2d]) (0.0.4)\n",
            "Collecting box2d-py==2.3.5 (from gymnasium[box2d])\n",
            "  Downloading box2d-py-2.3.5.tar.gz (374 kB)\n",
            "\u001b[2K     \u001b[90m━━━━━━━━━━━━━━━━━━━━━━━━━━━━━━━━━━━━━━\u001b[0m \u001b[32m374.4/374.4 kB\u001b[0m \u001b[31m10.3 MB/s\u001b[0m eta \u001b[36m0:00:00\u001b[0m\n",
            "\u001b[?25h  Preparing metadata (setup.py) ... \u001b[?25l\u001b[?25hdone\n",
            "Requirement already satisfied: pygame>=2.1.3 in /usr/local/lib/python3.12/dist-packages (from gymnasium[box2d]) (2.6.1)\n",
            "Requirement already satisfied: swig==4.* in /usr/local/lib/python3.12/dist-packages (from gymnasium[box2d]) (4.3.1.post0)\n",
            "Requirement already satisfied: contourpy>=1.0.1 in /usr/local/lib/python3.12/dist-packages (from matplotlib) (1.3.3)\n",
            "Requirement already satisfied: cycler>=0.10 in /usr/local/lib/python3.12/dist-packages (from matplotlib) (0.12.1)\n",
            "Requirement already satisfied: fonttools>=4.22.0 in /usr/local/lib/python3.12/dist-packages (from matplotlib) (4.60.1)\n",
            "Requirement already satisfied: kiwisolver>=1.3.1 in /usr/local/lib/python3.12/dist-packages (from matplotlib) (1.4.9)\n",
            "Requirement already satisfied: packaging>=20.0 in /usr/local/lib/python3.12/dist-packages (from matplotlib) (25.0)\n",
            "Requirement already satisfied: pillow>=8 in /usr/local/lib/python3.12/dist-packages (from matplotlib) (11.3.0)\n",
            "Requirement already satisfied: pyparsing>=2.3.1 in /usr/local/lib/python3.12/dist-packages (from matplotlib) (3.2.5)\n",
            "Requirement already satisfied: python-dateutil>=2.7 in /usr/local/lib/python3.12/dist-packages (from matplotlib) (2.9.0.post0)\n",
            "Requirement already satisfied: six>=1.5 in /usr/local/lib/python3.12/dist-packages (from python-dateutil>=2.7->matplotlib) (1.17.0)\n",
            "Building wheels for collected packages: box2d-py\n",
            "  Building wheel for box2d-py (setup.py) ... \u001b[?25l\u001b[?25hdone\n",
            "  Created wheel for box2d-py: filename=box2d_py-2.3.5-cp312-cp312-linux_x86_64.whl size=2409504 sha256=d38478699b2383da1d17d45fac86729d4efc18766bc6fec929c6fefe5b8224ff\n",
            "  Stored in directory: /root/.cache/pip/wheels/2a/e9/60/774da0bcd07f7dc7761a8590fa2d065e4069568e78dcdc3318\n",
            "Successfully built box2d-py\n",
            "Installing collected packages: box2d-py\n",
            "Successfully installed box2d-py-2.3.5\n"
          ]
        }
      ]
    },
    {
      "cell_type": "markdown",
      "source": [
        "Импорт необходимых библиотек:"
      ],
      "metadata": {
        "id": "Z33N0-cdUPSf"
      }
    },
    {
      "cell_type": "code",
      "source": [
        "import gymnasium as gym\n",
        "import numpy as np\n",
        "import torch\n",
        "import torch.nn as nn\n",
        "import torch.optim as optim\n",
        "import torch.nn.functional as F  # Функциональный API torch (например, функции потерь)\n",
        "from torch.distributions import Normal  # Для PPO: создание нормального распределения для выбора действий\n",
        "import copy\n",
        "import random\n",
        "from collections import deque  # Двусторонняя очередь для реализации буфера воспроизведения\n",
        "import os\n",
        "import matplotlib.pyplot as plt"
      ],
      "metadata": {
        "id": "k4iDH6AAUPiX"
      },
      "execution_count": null,
      "outputs": []
    },
    {
      "cell_type": "markdown",
      "source": [
        "Класс `ReplayBuffer` служит для хранения \"опыта\" агента, то есть последовательностей (состояние, действие, награда, новое состояние, завершён ли эпизод). Это нужно, чтобы агент мог обучаться на разных примерах из прошлого, а не только на последнем эпизоде. Буфер ограничен по размеру, чтобы не занимать всю оперативную память, старые записи автоматически удаляются:"
      ],
      "metadata": {
        "id": "CZ_ygF4T1R-r"
      }
    },
    {
      "cell_type": "code",
      "source": [
        "class ReplayBuffer:\n",
        "    def __init__(self, capacity):\n",
        "        # Инициализация буфера с максимальной вместимостью (capacity)\n",
        "        # deque(maxlen=...) автоматически удаляет старые элементы при добавлении новых\n",
        "        self.capacity = capacity\n",
        "        self.buffer = deque(maxlen=capacity)\n",
        "\n",
        "    # Добавление нового перехода (опыта) в буфер\n",
        "    def push(self, state, action, reward, next_state, done):\n",
        "        # Мы сохраняем опыт в виде кортежа\n",
        "        self.buffer.append((state, action, reward, next_state, done))\n",
        "\n",
        "    # Извлечение случайной выборки (батча) из буфера\n",
        "    def sample(self, batch_size):\n",
        "        # random.sample выбирает batch_size уникальных элементов из буфера\n",
        "        batch = random.sample(self.buffer, batch_size)\n",
        "\n",
        "        # zip(*batch) \"разворачивает\" список кортежей в отдельные кортежи\n",
        "        # (s1, a1, r1), (s2, a2, r2) -> (s1, s2), (a1, a2), (r1, r2)\n",
        "        state, action, reward, next_state, done = zip(*batch)\n",
        "\n",
        "        # Преобразуем списки в массивы numpy для удобной подачи в нейронную сеть\n",
        "        return (\n",
        "            np.array(state),\n",
        "            np.array(action),\n",
        "            np.array(reward),\n",
        "            np.array(next_state),\n",
        "            np.array(done)\n",
        "        )\n",
        "\n",
        "    # Возвращает текущий размер буфера\n",
        "    def __len__(self):\n",
        "        return len(self.buffer)"
      ],
      "metadata": {
        "id": "WD6jGmSA1SPM"
      },
      "execution_count": null,
      "outputs": []
    },
    {
      "cell_type": "markdown",
      "source": [
        "`ActorDDPG` — это класс нейронной сети, которая учится выбирать наилучшее действие для текущего состояния среды. Сеть принимает состояние на вход и выдаёт действие, масштабируя его к допустимому диапазону среды. Этот класс используется для создания \"мозга\" агента `DDPG`, определяющего его поведение.\n",
        "\n",
        "`CriticDDPG` — это класс нейронной сети, которая учится оценивать, насколько хороша пара состояние-действие (*Q-функция*). Критик помогает актёру учиться, говоря, как хорошо то или иное действие в каждом состоянии. Сеть принимает на вход как состояние, так и действие, и выдаёт одно число — оценку."
      ],
      "metadata": {
        "id": "PwzMmseOUUDs"
      }
    },
    {
      "cell_type": "code",
      "source": [
        "class ActorDDPG(nn.Module):\n",
        "    def __init__(self, state_dim, action_dim, max_action):\n",
        "        super().__init__()\n",
        "        # max_action - это максимальное значение действия в среде (например, 1.0 или 2.0)\n",
        "        self.max_action = max_action\n",
        "\n",
        "        # Определяем архитектуру сети\n",
        "        self.net = nn.Sequential(\n",
        "            nn.Linear(state_dim, 400),  # Входной слой: размер состояния -> 400 нейронов\n",
        "            nn.ReLU(),  # Функция активации\n",
        "            nn.Linear(400, 300),  # Скрытый слой\n",
        "            nn.ReLU(),\n",
        "            nn.Linear(300, action_dim),  # Выходной слой: 300 -> размер действия\n",
        "            nn.Tanh()  # Гиперболический тангенс. Выдает значения в диапазоне [-1, 1]\n",
        "        )\n",
        "\n",
        "    def forward(self, state):\n",
        "        # Прямой проход: пропускаем состояние через сеть\n",
        "        # Масштабируем выход Tanh [-1, 1] до диапазона действий среды [-max_action, max_action]\n",
        "        return self.max_action * self.net(state)\n",
        "\n",
        "class CriticDDPG(nn.Module):\n",
        "    def __init__(self, state_dim, action_dim):\n",
        "        super().__init__()\n",
        "\n",
        "        # Архитектура сети критика\n",
        "        # Важно: на вход критик получает и СОСТОЯНИЕ, и ДЕЙСТВИЕ\n",
        "        self.net = nn.Sequential(\n",
        "            nn.Linear(state_dim + action_dim, 400),  # Входной слой (состояние + действие)\n",
        "            nn.ReLU(),\n",
        "            nn.Linear(400, 300),\n",
        "            nn.ReLU(),\n",
        "            nn.Linear(300, 1)  # Выходной слой: 1 нейрон (предсказание Q-value)\n",
        "        )\n",
        "\n",
        "    def forward(self, state, action):\n",
        "        # Прямой проход:\n",
        "        # Объединяем (конкатенируем) тензоры состояния и действия по оси 1\n",
        "        return self.net(torch.cat([state, action], dim=1))"
      ],
      "metadata": {
        "id": "sEPpROGKUUNJ"
      },
      "execution_count": null,
      "outputs": []
    },
    {
      "cell_type": "markdown",
      "source": [
        "`DDPGAgent` — это основной класс, который объединяет актёра, критика, буфер опыта и всю логику обучения агента `DDPG`. В конструкторе создаются все необходимые компоненты и задаются параметры обучения. Внутри есть методы для выбора действия (`select_action`), обучения (`train`), и сохранения модели (`save_checkpoint`). Этот агент учится с помощью опыта, накопленного в буфере, и обновляет свои нейронные сети для более успешного управления средой."
      ],
      "metadata": {
        "id": "HQHxg5TQUn3I"
      }
    },
    {
      "cell_type": "code",
      "source": [
        "class DDPGAgent:\n",
        "    def __init__(self, state_dim, action_dim, max_action, device, buffer_size=500000):\n",
        "        self.device = device  # Устройство (CPU или CUDA)\n",
        "        self.logdir = 'runs/DDPG_checkpoints'  # Папка для сохранения моделей\n",
        "        os.makedirs(self.logdir, exist_ok=True) # Создаем папку, если ее нет\n",
        "\n",
        "        # Основной Актёр\n",
        "        self.actor = ActorDDPG(state_dim, action_dim, max_action).to(self.device)\n",
        "        # Целевой Актёр - используется для стабильного расчета целевых Q-значений\n",
        "        self.actor_target = copy.deepcopy(self.actor).to(self.device)\n",
        "        self.actor_optimizer = optim.Adam(self.actor.parameters(), lr=1e-4) # Оптимизатор для актёра\n",
        "\n",
        "        # Основной Критик\n",
        "        self.critic = CriticDDPG(state_dim, action_dim).to(self.device)\n",
        "        # Целевой Критик\n",
        "        self.critic_target = copy.deepcopy(self.critic).to(self.device)\n",
        "        self.critic_optimizer = optim.Adam(self.critic.parameters(), lr=1e-3) # Оптимизатор для критика\n",
        "\n",
        "        # Буфер для хранения опыта\n",
        "        self.memory = ReplayBuffer(buffer_size)\n",
        "\n",
        "        self.batch_size = 128  # Размер выборки из буфера для одного шага обучения\n",
        "        self.gamma = 0.99  # Коэффициент дисконтирования (насколько важны будущие награды)\n",
        "        self.tau = 0.005  # Коэффициент \"мягкого\" обновления целевых сетей\n",
        "\n",
        "    def select_action(self, state):\n",
        "        # Выбор действия (используется для взаимодействия со средой)\n",
        "        #Переводим состояние (numpy array) в тензор PyTorch\n",
        "        state = torch.FloatTensor(state).unsqueeze(0).to(self.device)\n",
        "\n",
        "        # Переводим актёра в режим оценки\n",
        "        self.actor.eval()\n",
        "\n",
        "        # Отключаем расчет градиентов (для ускорения)\n",
        "        with torch.no_grad():\n",
        "            # Получаем действие от актёра\n",
        "            action = self.actor(state).cpu().numpy().flatten()\n",
        "\n",
        "        # Возвращаем актёра в режим обучения\n",
        "        self.actor.train()\n",
        "\n",
        "        return action\n",
        "\n",
        "    def train(self):\n",
        "        # Функция обучения агента (вызывается на каждом шаге)\n",
        "\n",
        "        # Проверяем, достаточно ли опыта в буфере для обучения\n",
        "        if len(self.memory) < self.batch_size:\n",
        "            return  # Если мало, выходим\n",
        "\n",
        "        # Сэмплируем батч из буфера\n",
        "        state, action, reward, next_state, done = self.memory.sample(self.batch_size)\n",
        "\n",
        "        # Конвертируем numpy массивы в тензоры PyTorch и отправляем на device\n",
        "        state = torch.FloatTensor(state).to(self.device)\n",
        "        action = torch.FloatTensor(action).to(self.device)\n",
        "        reward = torch.FloatTensor(reward).unsqueeze(1).to(self.device)\n",
        "        next_state = torch.FloatTensor(next_state).to(self.device)\n",
        "        done = torch.FloatTensor(done).unsqueeze(1).to(self.device)\n",
        "\n",
        "        with torch.no_grad(): # Не считаем градиенты для целевых сетей\n",
        "            # Получаем следующее действие от *целевого* актёра\n",
        "            next_action = self.actor_target(next_state)\n",
        "\n",
        "            # Рассчитываем целевое Q-значение\n",
        "            target_Q = self.critic_target(next_state, next_action)\n",
        "            target_Q = reward + (1 - done) * self.gamma * target_Q\n",
        "\n",
        "        # Получаем текущее Q-значение от *основного* критика\n",
        "        current_Q = self.critic(state, action)\n",
        "\n",
        "        # Считаем ошибку (Loss) как среднеквадратичную ошибку (MSE) между целевым и текущим Q\n",
        "        critic_loss = F.mse_loss(current_Q, target_Q)\n",
        "\n",
        "        # Обновляем веса критика\n",
        "        self.critic_optimizer.zero_grad()  # Обнуляем градиенты\n",
        "        critic_loss.backward()  # Считаем градиенты\n",
        "        self.critic_optimizer.step()  # Делаем шаг оптимизации\n",
        "\n",
        "        # Считаем Loss для актёра\n",
        "        actor_loss = -self.critic(state, self.actor(state)).mean()\n",
        "\n",
        "        # Обновляем веса актёра\n",
        "        self.actor_optimizer.zero_grad()\n",
        "        actor_loss.backward()\n",
        "        self.actor_optimizer.step()\n",
        "\n",
        "        # Мягкое обновление целевых сетей\n",
        "\n",
        "        # Обновление целевого критика\n",
        "        for param, target_param in zip(self.critic.parameters(), self.critic_target.parameters()):\n",
        "            target_param.data.copy_(self.tau * param.data + (1 - self.tau) * target_param.data)\n",
        "\n",
        "        # Обновление целевого актёра\n",
        "        for param, target_param in zip(self.actor.parameters(), self.actor_target.parameters()):\n",
        "            target_param.data.copy_(self.tau * param.data + (1 - self.tau) * target_param.data)\n",
        "\n",
        "    def save_checkpoint(self, episode):\n",
        "        # Сохраняем веса (state_dict) нейронных сетей в файл\n",
        "        torch.save({\n",
        "            'actor': self.actor.state_dict(),\n",
        "            'critic': self.critic.state_dict(),\n",
        "        }, os.path.join(self.logdir, f'checkpoint_{episode}.pth'))"
      ],
      "metadata": {
        "id": "KWxKjOPOUoBp"
      },
      "execution_count": null,
      "outputs": []
    },
    {
      "cell_type": "markdown",
      "source": [
        "Класс `ActorCritic` реализует нейронную сеть, объединяющую две роли: актёра (который выбирает действия) и критика (который оценивает состояния). Он используется в алгоритме `PPO` для более стабильного обучения. Отдельные блоки **actor** и **critic** позволяют одновременно предсказывать оптимальное действие и оценку состояния."
      ],
      "metadata": {
        "id": "TKPf-jX8Urvn"
      }
    },
    {
      "cell_type": "code",
      "source": [
        "class ActorCritic(nn.Module):\n",
        "    def __init__(self, state_dim, action_dim, action_std):\n",
        "        super().__init__()\n",
        "\n",
        "        # Актёр (политика)\n",
        "        self.actor = nn.Sequential(\n",
        "            nn.Linear(state_dim, 64), nn.Tanh(),\n",
        "            nn.Linear(64, 64), nn.Tanh(),\n",
        "            nn.Linear(64, action_dim), nn.Tanh() # Выход - среднее (mean) для распределения\n",
        "        )\n",
        "\n",
        "        # Критик (оценка ценности состояния)\n",
        "        self.critic = nn.Sequential(\n",
        "            nn.Linear(state_dim, 64), nn.Tanh(),\n",
        "            nn.Linear(64, 64), nn.Tanh(),\n",
        "            nn.Linear(64, 1) # Выход - одно число\n",
        "        )\n",
        "\n",
        "        # Агенту PPO нужно иногда \"ошибаться\" и пробовать новые действия (это называется \"исследование\").\n",
        "        # Для этого он выбирает действие не точно, а с небольшой долей случайности.\n",
        "        #\n",
        "        # Эта переменная (action_var) как раз и задает \"степень\" этой случайности (насколько\n",
        "        # сильно действия могут отклоняться от \"лучшего\" варианта).\n",
        "        #\n",
        "        # В этой реализации мы *не обучаем* этот параметр (requires_grad=False),\n",
        "        # а просто задаем его один раз при создании агента. Он всегда будет одинаковым.\n",
        "        self.action_var = nn.Parameter(torch.full((action_dim,), action_std ** 2), requires_grad=False)\n",
        "\n",
        "    def forward(self):\n",
        "        # ЭТА ФУНКЦИЯ СПЕЦИАЛЬНО ВЫЗОВЕТ ОШИБКУ\n",
        "        #\n",
        "        # Наш класс ActorCritic — это просто \"коробка\" для двух сетей:\n",
        "        # 1. self.actor (выдает действие)\n",
        "        # 2. self.critic (выдает оценку)\n",
        "        #\n",
        "        # Мы никогда не вызываем их \"вместе\", а всегда обращаемся\n",
        "        # к ним по отдельности (например, policy.actor(state)).\n",
        "        #\n",
        "        # Эта заглушка нужна, чтобы код сломался, если кто-то\n",
        "        # по ошибке попытается вызвать всю \"коробку\" целиком (например, policy(state)).\n",
        "        raise NotImplementedError"
      ],
      "metadata": {
        "id": "mSL8VXewUr9n"
      },
      "execution_count": null,
      "outputs": []
    },
    {
      "cell_type": "markdown",
      "source": [
        "`PPOAgent` — это класс для агента, обучающегося по алгоритму **Proximal Policy Optimization (PPO)**. Этот агент хранит политику (нейросеть), буфер опыта, параметры обучения и логику обновления своей политики. Внутри реализованы методы для выбора действия (`select_action`), обновления политики (`update`), оценки действий (`evaluate`) и сохранения модели (`save_checkpoint`). `PPOAgent` учится на целых эпизодах, обновляя свою стратегию на основании собранных данных."
      ],
      "metadata": {
        "id": "KdVIqgGEVFcU"
      }
    },
    {
      "cell_type": "code",
      "source": [
        "class PPOAgent:\n",
        "    def __init__(self, state_dim, action_dim, device, lr_actor=3e-4, lr_critic=1e-3, gamma=0.99, K_epochs=40, eps_clip=0.2, action_std_init=0.6):\n",
        "        self.device = device\n",
        "        self.gamma = gamma  # Коэффициент дисконтирования\n",
        "        self.eps_clip = eps_clip  # Параметр \"клиппинга\" PPO (насколько сильно может меняться политика)\n",
        "        self.K_epochs = K_epochs  # Количество эпох обучения на *одном* батче данных\n",
        "        self.logdir = 'runs/PPO_checkpoints'  # Папка для сохранения моделей\n",
        "        os.makedirs(self.logdir, exist_ok=True) # Создаем папку\n",
        "\n",
        "        # Основная политика (которую мы обучаем)\n",
        "        self.policy = ActorCritic(state_dim, action_dim, action_std_init).to(device)\n",
        "\n",
        "        # \"Старая\" политика (которая собирала данные)\n",
        "        # Мы храним ее веса, чтобы считать \"соотношение\" новой и старой политики\n",
        "        self.policy_old = copy.deepcopy(self.policy).to(device)\n",
        "        self.policy_old.load_state_dict(self.policy.state_dict()) # Убедимся, что веса идентичны\n",
        "\n",
        "        # Оптимизатор для обеих частей сети (актёра и критика)\n",
        "        self.optimizer = optim.Adam([\n",
        "            {'params': self.policy.actor.parameters(), 'lr': lr_actor},\n",
        "            {'params': self.policy.critic.parameters(), 'lr': lr_critic}\n",
        "        ])\n",
        "\n",
        "        # Функция потерь для критика (MSE)\n",
        "        self.MseLoss = nn.MSELoss()\n",
        "\n",
        "        # Временное хранилище (память) для сбора одного эпизода/батча\n",
        "        self.memory = []\n",
        "\n",
        "    def select_action(self, state):\n",
        "        # Выбор действия (для сбора данных)\n",
        "        # Используем \"старую\" политику\n",
        "        state = torch.FloatTensor(state).to(self.device)\n",
        "\n",
        "        with torch.no_grad():\n",
        "            # Получаем \"среднее\" (mean) действия от актёра\n",
        "            action_mean = self.policy_old.actor(state)\n",
        "\n",
        "            # Создаем нормальное распределение с этим средним и сохраненной дисперсией\n",
        "            dist = Normal(action_mean, self.policy_old.action_var.sqrt())\n",
        "\n",
        "            # Сэмплируем (выбираем) стохастическое действие из распределения\n",
        "            action = dist.sample()\n",
        "\n",
        "            # Считаем логарифм вероятности этого действия\n",
        "            action_logprob = dist.log_prob(action)\n",
        "\n",
        "        # Сохраняем переход во временную память\n",
        "        # (Награду и 'done' мы добавим позже, после шага в среде)\n",
        "        self.memory.append({'state': state, 'action': action, 'log_prob': action_logprob, 'reward': None, 'done': None})\n",
        "\n",
        "        # Ограничиваем действие диапазоном [-1, 1] и возвращаем\n",
        "        return action.clamp(-1.0, 1.0).cpu().numpy()\n",
        "\n",
        "    def update(self):\n",
        "        rewards = []\n",
        "        discounted_reward = 0\n",
        "\n",
        "        # Идем по собранному эпизоду *в обратном порядке*\n",
        "        for i in reversed(range(len(self.memory))):\n",
        "            reward = self.memory[i]['reward']\n",
        "            done = self.memory[i]['done']\n",
        "\n",
        "            if done:\n",
        "                discounted_reward = 0  # Если эпизод окончен, будущая награда = 0\n",
        "\n",
        "            discounted_reward = reward + (self.gamma * discounted_reward)\n",
        "            rewards.insert(0, discounted_reward) # Добавляем discounted_reward в начало списка\n",
        "\n",
        "        # Это стабилизирует обучение (уменьшает дисперсию градиентов)\n",
        "        rewards = torch.tensor(rewards, dtype=torch.float32).to(self.device)\n",
        "        rewards = (rewards - rewards.mean()) / (rewards.std() + 1e-7)\n",
        "\n",
        "        # Сбор данных из памяти (старые состояния, действия, log_probs)\n",
        "        old_states = torch.stack([m['state'] for m in self.memory]).detach().to(self.device)\n",
        "        old_actions = torch.stack([m['action'] for m in self.memory]).detach().to(self.device)\n",
        "        old_logprobs = torch.stack([m['log_prob'] for m in self.memory]).detach().to(self.device)\n",
        "\n",
        "        # Мы многократно (K_epochs) обучаемся на *одном и том же* батче данных\n",
        "        for _ in range(self.K_epochs):\n",
        "\n",
        "            # Оцениваем старые состояния/действия с помощью *новой* (обучаемой) политики\n",
        "            logprobs, state_values, dist_entropy = self.evaluate(old_states, old_actions)\n",
        "\n",
        "            # Рассчитываем преимущество\n",
        "            advantages = rewards - state_values.detach()\n",
        "\n",
        "            # Считаем соотношение вероятностей\n",
        "            ratios = torch.exp(logprobs - old_logprobs.sum(-1, keepdim=True).squeeze())\n",
        "\n",
        "            # Считаем PPO Loss (Clipped Objective)\n",
        "            # Loss Актёра:\n",
        "            surr1 = ratios * advantages  # Обычный Policy Gradient\n",
        "            surr2 = torch.clamp(ratios, 1 - self.eps_clip, 1 + self.eps_clip) * advantages # \"Обрезанный\" Policy Gradient\n",
        "\n",
        "            # Мы берем минимум из двух (это и есть \"клиппинг\" PPO)\n",
        "            # и берем минус, т.к. мы хотим максимизировать (а pytorch минимизирует)\n",
        "            actor_loss = -torch.min(surr1, surr2)\n",
        "\n",
        "            # Loss Критика\n",
        "            critic_loss = 0.5 * self.MseLoss(state_values, rewards)\n",
        "\n",
        "            # Энтропия (для поощрения исследования)\n",
        "            entropy_loss = -0.01 * dist_entropy\n",
        "\n",
        "            # Суммарный Loss\n",
        "            loss = actor_loss + critic_loss + entropy_loss\n",
        "\n",
        "            # Обновление весов\n",
        "            self.optimizer.zero_grad()\n",
        "            loss.mean().backward()\n",
        "            self.optimizer.step()\n",
        "\n",
        "        # После K эпох обучения, мы копируем веса из self.policy в self.policy_old\n",
        "        self.policy_old.load_state_dict(self.policy.state_dict())\n",
        "\n",
        "        # PPO - on-policy, поэтому старые данные больше не нужны\n",
        "        self.memory = []\n",
        "\n",
        "    def evaluate(self, state, action):\n",
        "        # Эта функция вызывается во время \"обновления\" (обучения) агента.\n",
        "        # Ее задача — взять *старые* состояния (state) и *старые* действия (action),\n",
        "        # которые мы собрали, и \"пере-оценить\" их с точки зрения *новой*,\n",
        "        # только что обновленной, политики (self.policy).\n",
        "        #\n",
        "        # Это нужно, чтобы сравнить, \"стало ли лучше?\" (насколько новая\n",
        "        # политика отличается от старой).\n",
        "\n",
        "        # Получаем среднее от актёра\n",
        "        action_mean = self.policy.actor(state)\n",
        "\n",
        "        # Создаем распределение\n",
        "        dist = Normal(action_mean, self.policy.action_var.sqrt())\n",
        "\n",
        "        # Считаем логарифм вероятности\n",
        "        action_logprobs = dist.log_prob(action)\n",
        "\n",
        "        # Считаем энтропию (для exploration bonus)\n",
        "        dist_entropy = dist.entropy().mean(1)\n",
        "\n",
        "        # Получаем оценку ценности состояния от критика\n",
        "        state_values = self.policy.critic(state).squeeze()\n",
        "\n",
        "        return action_logprobs.sum(-1, keepdim=True), state_values, dist_entropy.mean()\n",
        "\n",
        "    def save_checkpoint(self, episode):\n",
        "        # Сохраняем веса (state_dict) нейронных сетей в файл\n",
        "        torch.save({\n",
        "            'actor': self.policy.actor.state_dict(),\n",
        "            'critic': self.policy.critic.state_dict(),\n",
        "        }, os.path.join(self.logdir, f'checkpoint_{episode}.pth'))"
      ],
      "metadata": {
        "id": "QYHbcQewVFp2"
      },
      "execution_count": null,
      "outputs": []
    },
    {
      "cell_type": "markdown",
      "source": [
        "Для ясности выведем параметры нашей среды:"
      ],
      "metadata": {
        "id": "LwBjcZCLYf2d"
      }
    },
    {
      "cell_type": "code",
      "source": [
        "print(\"--- Параметры среды BipedalWalker-v3 ---\")\n",
        "env_for_params = gym.make('BipedalWalker-v3')\n",
        "state_dim = env_for_params.observation_space.shape[0]\n",
        "print(f\"Размерность состояния: {state_dim}\")\n",
        "action_dim = env_for_params.action_space.shape[0]\n",
        "print(f\"Размерность действия: {action_dim}\")\n",
        "max_action = float(env_for_params.action_space.high[0])\n",
        "env_for_params.close()"
      ],
      "metadata": {
        "colab": {
          "base_uri": "https://localhost:8080/"
        },
        "id": "UxW_hXpaYf_e",
        "outputId": "d4064f78-6d5c-44a4-c977-56f2237eec96"
      },
      "execution_count": null,
      "outputs": [
        {
          "output_type": "stream",
          "name": "stdout",
          "text": [
            "--- Параметры среды BipedalWalker-v3 ---\n",
            "Размерность состояния: 24\n",
            "Размерность действия: 4\n"
          ]
        }
      ]
    },
    {
      "cell_type": "markdown",
      "source": [
        "Глобальные параметры:"
      ],
      "metadata": {
        "id": "8ybJ2aEycfZG"
      }
    },
    {
      "cell_type": "code",
      "source": [
        "device = torch.device(\"cuda\" if torch.cuda.is_available() else \"cpu\") # Выбираем устройство (GPU, если доступно, иначе CPU)\n",
        "num_episodes = 1000"
      ],
      "metadata": {
        "id": "B5QkkQZfcfmx"
      },
      "execution_count": null,
      "outputs": []
    },
    {
      "cell_type": "markdown",
      "source": [
        "Этот блок отвечает за весь цикл обучения агента `DDPG`. Здесь происходит инициализация среды, создание агентов, запуск эпизодов, сбор наград и обучение агентов. Для каждого алгоритма выводится прогресс обучения, а также сохраняются модели и логируются результаты для последующего анализа."
      ],
      "metadata": {
        "id": "9-K6TV-ecjY3"
      }
    },
    {
      "cell_type": "code",
      "source": [
        "print(\"\\nНачинаем обучение DDPG...\")\n",
        "env_ddpg = gym.make('BipedalWalker-v3')\n",
        "agent_ddpg = DDPGAgent(state_dim, action_dim, max_action, device)\n",
        "rewards_ddpg = [] # Список для хранения наград по эпизодам\n",
        "\n",
        "for episode in range(num_episodes):\n",
        "    state, _ = env_ddpg.reset() # Сброс среды\n",
        "    episode_reward = 0\n",
        "    done = False\n",
        "    step_count = 0\n",
        "\n",
        "    # Цикл одного эпизода (пока агент не упадет или не дойдет до конца)\n",
        "    while not done:\n",
        "        # Агент выбирает действие\n",
        "        action = agent_ddpg.select_action(state)\n",
        "\n",
        "        # Добавляем шум к действию для исследования (Exploration)\n",
        "        # DDPG - детерминированный, без шума он будет всегда выбирать одно и то же\n",
        "        noise = np.random.normal(0, max_action * 0.1, size=action_dim)\n",
        "        action = (action + noise).clip(env_ddpg.action_space.low, env_ddpg.action_space.high)\n",
        "\n",
        "        # Совершаем шаг в среде\n",
        "        next_state, reward, terminated, truncated, _ = env_ddpg.step(action)\n",
        "        done = terminated or truncated\n",
        "\n",
        "        # Сохраняем переход в буфер\n",
        "        agent_ddpg.memory.push(state, action, reward, next_state, float(done))\n",
        "\n",
        "        # Обучаем агента (DDPG обучается на *каждом* шаге)\n",
        "        agent_ddpg.train()\n",
        "\n",
        "        # Обновляем состояние и награду\n",
        "        state = next_state\n",
        "        episode_reward += reward\n",
        "        step_count += 1\n",
        "\n",
        "    rewards_ddpg.append(episode_reward)\n",
        "\n",
        "    # Вывод прогресса\n",
        "    if episode % 20 == 0:\n",
        "        print(f\"DDPG | Эпизод {episode}, Награда: {episode_reward:.2f}\")\n",
        "\n",
        "    # Сохранение контрольной точки\n",
        "    if episode % 100 == 0 and episode > 0:\n",
        "        agent_ddpg.save_checkpoint(episode)\n",
        "\n",
        "    # Очистка кеша CUDA (иногда помогает избежать нехватки памяти)\n",
        "    if torch.cuda.is_available():\n",
        "        torch.cuda.empty_cache()\n",
        "\n",
        "avg_reward_ddpg = np.mean(rewards_ddpg[-100:])\n",
        "print(f\"\\nСредняя награда DDPG за последние 100 эпизодов: {avg_reward_ddpg:.2f}\")\n",
        "env_ddpg.close()"
      ],
      "metadata": {
        "id": "8hAKbYvIcjix",
        "colab": {
          "base_uri": "https://localhost:8080/"
        },
        "outputId": "11af29dd-3f9c-4fc5-9447-d7df7072574a"
      },
      "execution_count": null,
      "outputs": [
        {
          "output_type": "stream",
          "name": "stdout",
          "text": [
            "\n",
            "Начинаем обучение DDPG...\n",
            "DDPG | Эпизод 0, Награда: -112.03\n",
            "DDPG | Эпизод 20, Награда: -111.71\n",
            "DDPG | Эпизод 40, Награда: -117.55\n",
            "DDPG | Эпизод 60, Награда: -107.88\n",
            "DDPG | Эпизод 80, Награда: -111.15\n",
            "DDPG | Эпизод 100, Награда: -106.57\n",
            "DDPG | Эпизод 120, Награда: -154.97\n",
            "DDPG | Эпизод 140, Награда: -115.97\n",
            "DDPG | Эпизод 160, Награда: -136.77\n",
            "DDPG | Эпизод 180, Награда: -116.83\n",
            "DDPG | Эпизод 200, Награда: -118.49\n",
            "DDPG | Эпизод 220, Награда: -121.04\n",
            "DDPG | Эпизод 240, Награда: -114.58\n",
            "DDPG | Эпизод 260, Награда: -113.77\n",
            "DDPG | Эпизод 280, Награда: -122.46\n",
            "DDPG | Эпизод 300, Награда: -155.38\n",
            "DDPG | Эпизод 320, Награда: -218.00\n",
            "DDPG | Эпизод 340, Награда: -204.98\n",
            "DDPG | Эпизод 360, Награда: -132.51\n",
            "DDPG | Эпизод 380, Награда: -126.97\n",
            "DDPG | Эпизод 400, Награда: -120.48\n",
            "DDPG | Эпизод 420, Награда: -119.81\n",
            "DDPG | Эпизод 440, Награда: -141.91\n",
            "DDPG | Эпизод 460, Награда: -155.00\n",
            "DDPG | Эпизод 480, Награда: -236.41\n",
            "DDPG | Эпизод 500, Награда: -92.08\n",
            "DDPG | Эпизод 520, Награда: -128.08\n",
            "DDPG | Эпизод 540, Награда: -141.01\n",
            "DDPG | Эпизод 560, Награда: -120.66\n",
            "DDPG | Эпизод 580, Награда: -193.49\n",
            "DDPG | Эпизод 600, Награда: -105.86\n",
            "DDPG | Эпизод 620, Награда: -107.02\n",
            "DDPG | Эпизод 640, Награда: 27.69\n",
            "DDPG | Эпизод 660, Награда: -81.74\n",
            "DDPG | Эпизод 680, Награда: -103.58\n",
            "DDPG | Эпизод 700, Награда: -90.42\n",
            "DDPG | Эпизод 720, Награда: -91.39\n",
            "DDPG | Эпизод 740, Награда: -97.18\n",
            "DDPG | Эпизод 760, Награда: -148.39\n",
            "DDPG | Эпизод 780, Награда: 270.41\n",
            "DDPG | Эпизод 800, Награда: 39.23\n",
            "DDPG | Эпизод 820, Награда: -113.61\n",
            "DDPG | Эпизод 840, Награда: -73.93\n",
            "DDPG | Эпизод 860, Награда: 213.49\n",
            "DDPG | Эпизод 880, Награда: -101.29\n",
            "DDPG | Эпизод 900, Награда: -57.98\n",
            "DDPG | Эпизод 920, Награда: -112.86\n",
            "DDPG | Эпизод 940, Награда: -100.71\n",
            "DDPG | Эпизод 960, Награда: -165.01\n",
            "DDPG | Эпизод 980, Награда: -75.12\n",
            "\n",
            "Средняя награда DDPG за последние 100 эпизодов: -75.81\n"
          ]
        }
      ]
    },
    {
      "cell_type": "markdown",
      "source": [
        "Этот блок отвечает за весь цикл обучения агента `PPO`. Здесь происходит инициализация среды, создание агентов, запуск эпизодов, сбор наград и обучение агентов. Для каждого алгоритма выводится прогресс обучения, а также сохраняются модели и логируются результаты для последующего анализа."
      ],
      "metadata": {
        "id": "za90ZpMe17Xs"
      }
    },
    {
      "cell_type": "code",
      "source": [
        "print(\"\\nНачинаем обучение PPO...\")\n",
        "env_ppo = gym.make('BipedalWalker-v3')\n",
        "agent_ppo = PPOAgent(state_dim, action_dim, device)\n",
        "rewards_ppo = [] # Список для хранения наград по эпизодам\n",
        "\n",
        "for episode in range(num_episodes):\n",
        "    state, _ = env_ppo.reset() # Сброс среды\n",
        "    episode_reward = 0\n",
        "    done = False\n",
        "\n",
        "    # Цикл сбора данных для одного эпизода (или до max шагов)\n",
        "    for t in range(1600): # 1600 - лимит шагов в BipedalWalker\n",
        "\n",
        "        # Агент выбирает стохастическое действие\n",
        "        action = agent_ppo.select_action(state)\n",
        "\n",
        "        # Совершаем шаг в среде\n",
        "        next_state, reward, terminated, truncated, _ = env_ppo.step(action)\n",
        "        done = terminated or truncated\n",
        "\n",
        "        # Записываем награду и 'done' в *последний* элемент памяти\n",
        "        # (который был создан в select_action)\n",
        "        agent_ppo.memory[-1]['reward'] = reward\n",
        "        agent_ppo.memory[-1]['done'] = done\n",
        "\n",
        "        # Обновляем состояние и награду\n",
        "        state = next_state\n",
        "        episode_reward += reward\n",
        "\n",
        "        if done:\n",
        "            break # Если эпизод закончился, прекращаем сбор данных\n",
        "\n",
        "    # Обучаем агента на всех шагах этого эпизода (PPO учится после завершения эпизода)\n",
        "    agent_ppo.update()\n",
        "\n",
        "    rewards_ppo.append(episode_reward)\n",
        "\n",
        "    # Вывод прогресса\n",
        "    if episode % 20 == 0:\n",
        "        print(f\"PPO | Эпизод {episode}, Награда: {episode_reward:.2f}\")\n",
        "\n",
        "    # Сохранение контрольной точки\n",
        "    if episode % 100 == 0 and episode > 0:\n",
        "        agent_ppo.save_checkpoint(episode)\n",
        "\n",
        "    # Очистка кеша CUDA\n",
        "    if torch.cuda.is_available():\n",
        "        torch.cuda.empty_cache()\n",
        "\n",
        "avg_reward_ppo = np.mean(rewards_ppo[-100:])\n",
        "print(f\"\\nСредняя награда PPO за последние 100 эпизодов: {avg_reward_ppo:.2f}\")\n",
        "env_ppo.close()"
      ],
      "metadata": {
        "colab": {
          "base_uri": "https://localhost:8080/"
        },
        "id": "r74NEQ1217kI",
        "outputId": "f6cff147-3f0e-46a2-b851-f08a821baaef"
      },
      "execution_count": null,
      "outputs": [
        {
          "output_type": "stream",
          "name": "stdout",
          "text": [
            "\n",
            "Начинаем обучение PPO...\n",
            "PPO | Эпизод 0, Награда: -80.36\n",
            "PPO | Эпизод 20, Награда: -101.37\n",
            "PPO | Эпизод 40, Награда: -104.69\n",
            "PPO | Эпизод 60, Награда: -103.20\n",
            "PPO | Эпизод 80, Награда: -102.25\n",
            "PPO | Эпизод 100, Награда: -103.74\n",
            "PPO | Эпизод 120, Награда: -98.94\n",
            "PPO | Эпизод 140, Награда: -123.38\n",
            "PPO | Эпизод 160, Награда: -124.91\n",
            "PPO | Эпизод 180, Награда: -139.34\n",
            "PPO | Эпизод 200, Награда: -107.30\n",
            "PPO | Эпизод 220, Награда: -104.35\n",
            "PPO | Эпизод 240, Награда: -105.25\n",
            "PPO | Эпизод 260, Награда: -124.99\n",
            "PPO | Эпизод 280, Награда: -114.00\n",
            "PPO | Эпизод 300, Награда: -106.58\n",
            "PPO | Эпизод 320, Награда: -106.84\n",
            "PPO | Эпизод 340, Награда: -117.33\n",
            "PPO | Эпизод 360, Награда: -116.49\n",
            "PPO | Эпизод 380, Награда: -125.57\n",
            "PPO | Эпизод 400, Награда: -140.94\n",
            "PPO | Эпизод 420, Награда: -119.25\n",
            "PPO | Эпизод 440, Награда: -150.26\n",
            "PPO | Эпизод 460, Награда: -119.26\n",
            "PPO | Эпизод 480, Награда: -111.39\n",
            "PPO | Эпизод 500, Награда: -116.49\n",
            "PPO | Эпизод 520, Награда: -143.56\n",
            "PPO | Эпизод 540, Награда: -122.59\n",
            "PPO | Эпизод 560, Награда: -125.12\n",
            "PPO | Эпизод 580, Награда: -121.93\n",
            "PPO | Эпизод 600, Награда: -103.08\n",
            "PPO | Эпизод 620, Награда: -101.57\n",
            "PPO | Эпизод 640, Награда: -101.06\n",
            "PPO | Эпизод 660, Награда: -132.65\n",
            "PPO | Эпизод 680, Награда: -104.67\n",
            "PPO | Эпизод 700, Награда: -103.82\n",
            "PPO | Эпизод 720, Награда: -102.34\n",
            "PPO | Эпизод 740, Награда: -103.96\n",
            "PPO | Эпизод 760, Награда: -98.71\n",
            "PPO | Эпизод 780, Награда: -125.83\n",
            "PPO | Эпизод 800, Награда: -105.58\n",
            "PPO | Эпизод 820, Награда: -104.39\n",
            "PPO | Эпизод 840, Награда: -107.76\n",
            "PPO | Эпизод 860, Награда: -106.43\n",
            "PPO | Эпизод 880, Награда: -109.75\n",
            "PPO | Эпизод 900, Награда: -109.05\n",
            "PPO | Эпизод 920, Награда: -109.34\n",
            "PPO | Эпизод 940, Награда: -116.14\n",
            "PPO | Эпизод 960, Награда: -113.18\n",
            "PPO | Эпизод 980, Награда: -122.67\n",
            "\n",
            "Средняя награда PPO за последние 100 эпизодов: -114.57\n"
          ]
        }
      ]
    },
    {
      "cell_type": "markdown",
      "source": [
        "Функция `plot_rewards` строит график наград для обоих агентов, чтобы визуально сравнить, кто из них обучился лучше. Она отображает как реальные награды за каждый эпизод, так и скользящее среднее, чтобы было видно тренд. График помогает понять, как быстро и насколько хорошо агенты учатся."
      ],
      "metadata": {
        "id": "OZiRoTwq1-RD"
      }
    },
    {
      "cell_type": "code",
      "source": [
        "def plot_rewards(rewards_ddpg, rewards_ppo):\n",
        "    plt.figure(figsize=(12, 6))\n",
        "    plt.title('Сравнение производительности DDPG и PPO на BipedalWalker-v3')\n",
        "    plt.xlabel('Эпизод')\n",
        "    plt.ylabel('Награда за эпизод')\n",
        "\n",
        "    # График DDPG\n",
        "    # Рисуем награды за каждый эпизод (полупрозрачный)\n",
        "    plt.plot(rewards_ddpg, label='Награда DDPG (за эпизод)', color='lightcoral', alpha=0.6)\n",
        "    # Считаем скользящее среднее для 50 эпизодов\n",
        "    # 'valid' означает, что результат будет короче исходного массива\n",
        "    ddpg_moving_avg = np.convolve(rewards_ddpg, np.ones(50)/50, mode='valid')\n",
        "    # Рисуем скользящее среднее (жирная линия)\n",
        "    plt.plot(np.arange(49, len(rewards_ddpg)), ddpg_moving_avg, label='Скользящее среднее DDPG (50 эп.)', color='red', linewidth=2)\n",
        "\n",
        "    # График PPO\n",
        "    # Аналогично для PPO\n",
        "    plt.plot(rewards_ppo, label='Награда PPO (за эпизод)', color='lightblue', alpha=0.6)\n",
        "    ppo_moving_avg = np.convolve(rewards_ppo, np.ones(50)/50, mode='valid')\n",
        "    plt.plot(np.arange(49, len(rewards_ppo)), ppo_moving_avg, label='Скользящее среднее PPO (50 эп.)', color='blue', linewidth=2)\n",
        "\n",
        "    plt.legend() # Показать легенду\n",
        "    plt.grid(True) # Включить сетку\n",
        "    plt.show() # Показать график"
      ],
      "metadata": {
        "id": "QG-eHSNm1-c4"
      },
      "execution_count": null,
      "outputs": []
    },
    {
      "cell_type": "markdown",
      "source": [
        "Воспользуемся функцией создания графика:"
      ],
      "metadata": {
        "id": "5jMWZmVt1_3P"
      }
    },
    {
      "cell_type": "code",
      "source": [
        "plot_rewards(rewards_ddpg, rewards_ppo)"
      ],
      "metadata": {
        "colab": {
          "base_uri": "https://localhost:8080/",
          "height": 564
        },
        "id": "nZXFep9-2ADg",
        "outputId": "3130c47d-8e44-4ca4-83b5-017cf4a46cb2"
      },
      "execution_count": null,
      "outputs": [
        {
          "output_type": "display_data",
          "data": {
            "text/plain": [
              "<Figure size 1200x600 with 1 Axes>"
            ],
            "image/png": "[encoded data removed]"
          },
          "metadata": {}
        }
      ]
    },
    {
      "cell_type": "markdown",
      "source": [
        "## Анализ полученных результатов:"
      ],
      "metadata": {
        "id": "5spvceFEziO6"
      }
    },
    {
      "cell_type": "markdown",
      "source": [
        "`DDPG` показал значительный прогресс в обучении, начиная с отрицательных наград, постепенно достигая положительных значений (>200) в некоторых эпизодах. Наблюдается тренд вверх. При увеличении количества эпизодов данный подход мог бы показать более позитивные результаты.\n",
        "\n",
        "`PPO` остался на уровне отрицательных наград и не продемонстрировал явного улучшения. Судя по графику, тренд отсутствует и при увеличении количества эпизодов вряд ли будет демонстрироваться явный прогресс."
      ],
      "metadata": {
        "id": "vIOMZNmjzpA9"
      }
    },
    {
      "cell_type": "markdown",
      "source": [
        "**Вывод**:\n",
        "\n",
        "\n",
        "---\n",
        "\n",
        "\n",
        "DDPG лучше подходит для данной среды, быстрее учится ходить и достигает лучших результатов.\n"
      ],
      "metadata": {
        "id": "I7qEDgf61IwA"
      }
    },
    {
      "cell_type": "markdown",
      "source": [
        "**Рекомендации по улучшению модели**:\n",
        "\n",
        "---\n",
        "\n",
        "\n",
        "\n",
        "для `PPO` стоит поэкспериментировать с гиперпараметрами (уменьшить `K_epochs`, увеличить `std` действий, попробовать другой `scheduler` для `lr`)\n",
        "\n",
        "для `DDPG` можно уменьшать шум по мере обучения, добавить `early stopping`."
      ],
      "metadata": {
        "id": "wKbnVPGZ1Jva"
      }
    }
  ]
}